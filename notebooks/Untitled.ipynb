{
 "cells": [
  {
   "cell_type": "code",
   "execution_count": 1,
   "id": "2b1e0eda",
   "metadata": {},
   "outputs": [],
   "source": [
    "from amid.medseg9 import Medseg9\n",
    "from amid.midrc import MIDRC"
   ]
  },
  {
   "cell_type": "code",
   "execution_count": 2,
   "id": "f44ff7bd",
   "metadata": {},
   "outputs": [],
   "source": [
    "medseg9 = Medseg9()\n",
    "midrc = MIDRC()"
   ]
  },
  {
   "cell_type": "code",
   "execution_count": 3,
   "id": "ae6999e0",
   "metadata": {},
   "outputs": [],
   "source": [
    "from dpipe.im.visualize import slice3d"
   ]
  },
  {
   "cell_type": "code",
   "execution_count": 4,
   "id": "df70b3b1",
   "metadata": {},
   "outputs": [],
   "source": [
    "_id = medseg9.ids[0]\n",
    "x = medseg9.image(_id)\n",
    "y = medseg9.covid(_id)\n",
    "s = medseg9.spacing(_id)"
   ]
  },
  {
   "cell_type": "code",
   "execution_count": 6,
   "id": "5cbc5eaa",
   "metadata": {},
   "outputs": [
    {
     "data": {
      "text/plain": [
       "((630, 630, 45), (630, 630, 45), (0.683594, 0.683594, 6.0))"
      ]
     },
     "execution_count": 6,
     "metadata": {},
     "output_type": "execute_result"
    }
   ],
   "source": [
    "x.shape, y.shape, s"
   ]
  },
  {
   "cell_type": "code",
   "execution_count": 5,
   "id": "d6cdd710",
   "metadata": {},
   "outputs": [
    {
     "data": {
      "application/vnd.jupyter.widget-view+json": {
       "model_id": "5b0f517d7fb04ed496ad8c0942594326",
       "version_major": 2,
       "version_minor": 0
      },
      "text/plain": [
       "interactive(children=(IntSlider(value=0, continuous_update=False, description='idx', max=44), Output()), _dom_…"
      ]
     },
     "metadata": {},
     "output_type": "display_data"
    }
   ],
   "source": [
    "slice3d(x, y)"
   ]
  },
  {
   "cell_type": "code",
   "execution_count": null,
   "id": "693e53f4",
   "metadata": {},
   "outputs": [],
   "source": []
  },
  {
   "cell_type": "code",
   "execution_count": 7,
   "id": "955d44cb",
   "metadata": {},
   "outputs": [],
   "source": [
    "_id = midrc.ids[0]\n",
    "x = midrc.image(_id)\n",
    "y = midrc.mask(_id)\n",
    "s = midrc.spacing(_id)"
   ]
  },
  {
   "cell_type": "code",
   "execution_count": 8,
   "id": "47724f90",
   "metadata": {},
   "outputs": [
    {
     "data": {
      "text/plain": [
       "((512, 512, 112),\n",
       " (6, 512, 512, 112),\n",
       " array([0.7265625, 0.7265625, 3.       ], dtype=float32))"
      ]
     },
     "execution_count": 8,
     "metadata": {},
     "output_type": "execute_result"
    }
   ],
   "source": [
    "x.shape, y.shape, s"
   ]
  },
  {
   "cell_type": "code",
   "execution_count": 5,
   "id": "21257da1",
   "metadata": {},
   "outputs": [
    {
     "data": {
      "application/vnd.jupyter.widget-view+json": {
       "model_id": "5b0f517d7fb04ed496ad8c0942594326",
       "version_major": 2,
       "version_minor": 0
      },
      "text/plain": [
       "interactive(children=(IntSlider(value=0, continuous_update=False, description='idx', max=44), Output()), _dom_…"
      ]
     },
     "metadata": {},
     "output_type": "display_data"
    }
   ],
   "source": [
    "slice3d(x, y)"
   ]
  }
 ],
 "metadata": {
  "kernelspec": {
   "display_name": "Python 3 (ipykernel)",
   "language": "python",
   "name": "python3"
  },
  "language_info": {
   "codemirror_mode": {
    "name": "ipython",
    "version": 3
   },
   "file_extension": ".py",
   "mimetype": "text/x-python",
   "name": "python",
   "nbconvert_exporter": "python",
   "pygments_lexer": "ipython3",
   "version": "3.9.12"
  }
 },
 "nbformat": 4,
 "nbformat_minor": 5
}
