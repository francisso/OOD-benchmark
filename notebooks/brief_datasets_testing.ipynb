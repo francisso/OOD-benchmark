{
 "cells": [
  {
   "cell_type": "code",
   "execution_count": 1,
   "id": "55fc6bd5",
   "metadata": {},
   "outputs": [],
   "source": [
    "from tqdm.auto import tqdm\n",
    "import numpy as np\n",
    "from dpipe.im.visualize import slice3d"
   ]
  },
  {
   "cell_type": "code",
   "execution_count": 2,
   "id": "c302eec0",
   "metadata": {},
   "outputs": [],
   "source": [
    "from oodbench.datasets.mri import CC359, CrossMoDA, EGD, VSSEG\n",
    "from oodbench.datasets.ct import Cancer500, CT_ICH, LIDC, LiTS, Medseg9, NSCLC"
   ]
  },
  {
   "cell_type": "markdown",
   "id": "da11e23a",
   "metadata": {},
   "source": [
    "## MRI datasets testing"
   ]
  },
  {
   "cell_type": "code",
   "execution_count": 3,
   "id": "0b17e5b4",
   "metadata": {},
   "outputs": [],
   "source": [
    "cc359 = CC359()\n",
    "crossmoda = CrossMoDA()\n",
    "egd = EGD()\n",
    "vsseg = VSSEG()"
   ]
  },
  {
   "cell_type": "markdown",
   "id": "f19d6b15",
   "metadata": {},
   "source": [
    "### Ids and splits:"
   ]
  },
  {
   "cell_type": "code",
   "execution_count": 4,
   "id": "f49ac7e0",
   "metadata": {},
   "outputs": [
    {
     "data": {
      "text/plain": [
       "(359, 262, 239, 105)"
      ]
     },
     "execution_count": 4,
     "metadata": {},
     "output_type": "execute_result"
    }
   ],
   "source": [
    "len(cc359.ids), len(egd.ids), len(vsseg.ids), len(crossmoda.ids)"
   ]
  },
  {
   "cell_type": "code",
   "execution_count": 5,
   "id": "47ff903e",
   "metadata": {},
   "outputs": [
    {
     "data": {
      "text/plain": [
       "(0, 359)"
      ]
     },
     "execution_count": 5,
     "metadata": {},
     "output_type": "execute_result"
    }
   ],
   "source": [
    "len(cc359.train_ids), len(cc359.test_ids)"
   ]
  },
  {
   "cell_type": "code",
   "execution_count": 6,
   "id": "47056d9f",
   "metadata": {},
   "outputs": [
    {
     "data": {
      "text/plain": [
       "(0, 262)"
      ]
     },
     "execution_count": 6,
     "metadata": {},
     "output_type": "execute_result"
    }
   ],
   "source": [
    "len(egd.train_ids), len(egd.test_ids)"
   ]
  },
  {
   "cell_type": "code",
   "execution_count": 7,
   "id": "5a32cd87",
   "metadata": {},
   "outputs": [
    {
     "data": {
      "text/plain": [
       "(160, 79)"
      ]
     },
     "execution_count": 7,
     "metadata": {},
     "output_type": "execute_result"
    }
   ],
   "source": [
    "len(vsseg.train_ids), len(vsseg.test_ids)"
   ]
  },
  {
   "cell_type": "code",
   "execution_count": 8,
   "id": "3793ba67",
   "metadata": {},
   "outputs": [
    {
     "data": {
      "text/plain": [
       "(0, 105)"
      ]
     },
     "execution_count": 8,
     "metadata": {},
     "output_type": "execute_result"
    }
   ],
   "source": [
    "len(crossmoda.train_ids), len(crossmoda.test_ids)"
   ]
  },
  {
   "cell_type": "markdown",
   "id": "6ab72328",
   "metadata": {},
   "source": [
    "## CT datasets testing"
   ]
  },
  {
   "cell_type": "code",
   "execution_count": 9,
   "id": "afd33a04",
   "metadata": {},
   "outputs": [],
   "source": [
    "cancer500 = Cancer500()\n",
    "ct_ich = CT_ICH()\n",
    "lidc = LIDC()\n",
    "lits = LiTS()\n",
    "medseg9 = Medseg9()\n",
    "nsclc = NSCLC()"
   ]
  },
  {
   "cell_type": "markdown",
   "id": "5683fed0",
   "metadata": {},
   "source": [
    "### Ids and splits:"
   ]
  },
  {
   "cell_type": "code",
   "execution_count": 10,
   "id": "e3d59ba0",
   "metadata": {},
   "outputs": [
    {
     "data": {
      "text/plain": [
       "(852, 75, 883, 201, 9, 415)"
      ]
     },
     "execution_count": 10,
     "metadata": {},
     "output_type": "execute_result"
    }
   ],
   "source": [
    "len(cancer500.ids), len(ct_ich.ids), len(lidc.ids), len(lits.ids), len(medseg9.ids), len(nsclc.ids)"
   ]
  },
  {
   "cell_type": "code",
   "execution_count": 11,
   "id": "4109089d",
   "metadata": {},
   "outputs": [
    {
     "data": {
      "text/plain": [
       "(0, 852)"
      ]
     },
     "execution_count": 11,
     "metadata": {},
     "output_type": "execute_result"
    }
   ],
   "source": [
    "len(cancer500.train_ids), len(cancer500.test_ids)"
   ]
  },
  {
   "cell_type": "code",
   "execution_count": 12,
   "id": "cdc120eb",
   "metadata": {},
   "outputs": [
    {
     "data": {
      "text/plain": [
       "(0, 75)"
      ]
     },
     "execution_count": 12,
     "metadata": {},
     "output_type": "execute_result"
    }
   ],
   "source": [
    "len(ct_ich.train_ids), len(ct_ich.test_ids)"
   ]
  },
  {
   "cell_type": "code",
   "execution_count": 13,
   "id": "d2965800",
   "metadata": {},
   "outputs": [
    {
     "data": {
      "text/plain": [
       "(707, 176)"
      ]
     },
     "execution_count": 13,
     "metadata": {},
     "output_type": "execute_result"
    }
   ],
   "source": [
    "len(lidc.train_ids), len(lidc.test_ids)"
   ]
  },
  {
   "cell_type": "code",
   "execution_count": 14,
   "id": "d40976bf",
   "metadata": {},
   "outputs": [
    {
     "data": {
      "text/plain": [
       "(0, 201)"
      ]
     },
     "execution_count": 14,
     "metadata": {},
     "output_type": "execute_result"
    }
   ],
   "source": [
    "len(lits.train_ids), len(lits.test_ids)"
   ]
  },
  {
   "cell_type": "code",
   "execution_count": 15,
   "id": "a6b99fb6",
   "metadata": {},
   "outputs": [
    {
     "data": {
      "text/plain": [
       "(0, 9)"
      ]
     },
     "execution_count": 15,
     "metadata": {},
     "output_type": "execute_result"
    }
   ],
   "source": [
    "len(medseg9.train_ids), len(medseg9.test_ids)"
   ]
  },
  {
   "cell_type": "code",
   "execution_count": 16,
   "id": "32e730c2",
   "metadata": {},
   "outputs": [
    {
     "data": {
      "text/plain": [
       "(0, 415)"
      ]
     },
     "execution_count": 16,
     "metadata": {},
     "output_type": "execute_result"
    }
   ],
   "source": [
    "len(nsclc.train_ids), len(nsclc.test_ids)"
   ]
  },
  {
   "cell_type": "markdown",
   "id": "879b7310",
   "metadata": {},
   "source": [
    "## Testing orientation and preprocessing"
   ]
  },
  {
   "cell_type": "code",
   "execution_count": 17,
   "id": "65492b67",
   "metadata": {},
   "outputs": [],
   "source": [
    "dataset = medseg9\n",
    "\n",
    "_id = dataset.ids[0]\n",
    "x = dataset.image(_id)\n",
    "y = dataset.mask(_id)\n",
    "s = dataset.spacing(_id)"
   ]
  },
  {
   "cell_type": "code",
   "execution_count": 18,
   "id": "eae77a49",
   "metadata": {},
   "outputs": [
    {
     "data": {
      "text/plain": [
       "((431, 431, 180), (431, 431, 180), [1.0, 1.0, 1.5])"
      ]
     },
     "execution_count": 18,
     "metadata": {},
     "output_type": "execute_result"
    }
   ],
   "source": [
    "x.shape, y.shape, s"
   ]
  },
  {
   "cell_type": "code",
   "execution_count": 19,
   "id": "00671254",
   "metadata": {},
   "outputs": [
    {
     "data": {
      "application/vnd.jupyter.widget-view+json": {
       "model_id": "984b50632a464ab7a521d6f10fa40156",
       "version_major": 2,
       "version_minor": 0
      },
      "text/plain": [
       "interactive(children=(IntSlider(value=0, continuous_update=False, description='idx', max=179), Output()), _dom…"
      ]
     },
     "metadata": {},
     "output_type": "display_data"
    }
   ],
   "source": [
    "slice3d(x, y)"
   ]
  },
  {
   "cell_type": "code",
   "execution_count": null,
   "id": "13e19513",
   "metadata": {},
   "outputs": [],
   "source": []
  }
 ],
 "metadata": {
  "kernelspec": {
   "display_name": "Python 3 (ipykernel)",
   "language": "python",
   "name": "python3"
  },
  "language_info": {
   "codemirror_mode": {
    "name": "ipython",
    "version": 3
   },
   "file_extension": ".py",
   "mimetype": "text/x-python",
   "name": "python",
   "nbconvert_exporter": "python",
   "pygments_lexer": "ipython3",
   "version": "3.9.12"
  }
 },
 "nbformat": 4,
 "nbformat_minor": 5
}
